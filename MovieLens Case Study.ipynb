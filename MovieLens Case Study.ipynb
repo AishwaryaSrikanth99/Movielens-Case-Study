{
 "cells": [
  {
   "cell_type": "code",
   "execution_count": 2,
   "metadata": {},
   "outputs": [],
   "source": [
    "#importing packages\n",
    "\n",
    "import pandas as pd\n",
    "import numpy as np\n",
    "import matplotlib.pyplot as plt"
   ]
  },
  {
   "cell_type": "code",
   "execution_count": 3,
   "metadata": {},
   "outputs": [],
   "source": [
    "#import the 3 datasets\n",
    "\n",
    "movie_data = pd.read_csv(\"movies.dat\",\n",
    "                       sep=\"::\", header=None, names=['MovieID','Title','Genres'], \n",
    "                       dtype={'MovieID': np.int32, 'Title': np.str, 'Genres': np.str}, engine='python')\n",
    "users_data = pd.read_csv(\"users.dat\",\n",
    "                       sep=\"::\", header=None, names=['UserID','Gender','Age','Occupation','Zip-code'], \n",
    "    dtype={'UserID': np.int32, 'Gender': np.str, 'Age': np.int32, 'Occupation' : np.int32, 'Zip-code' : np.str}, engine='python')\n",
    "ratings_data = pd.read_csv(\"ratings.dat\",\n",
    "                       sep=\"::\", header=None, names=['UserID','MovieID','Rating','Timestamp'], \n",
    "                dtype={'UserID': np.int32, 'MovieID': np.int32, 'Rating': np.int32, 'Timestamp' : np.str}, engine='python')\n",
    "\n"
   ]
  },
  {
   "cell_type": "code",
   "execution_count": 4,
   "metadata": {},
   "outputs": [
    {
     "name": "stdout",
     "output_type": "stream",
     "text": [
      "   MovieID                                      Title  \\\n",
      "0        1                           Toy Story (1995)   \n",
      "1       48                          Pocahontas (1995)   \n",
      "2      150                           Apollo 13 (1995)   \n",
      "3      260  Star Wars: Episode IV - A New Hope (1977)   \n",
      "4      527                    Schindler's List (1993)   \n",
      "\n",
      "                                 Genres  UserID  Rating Gender  Age  \\\n",
      "0           Animation|Children's|Comedy       1       5      F    1   \n",
      "1  Animation|Children's|Musical|Romance       1       5      F    1   \n",
      "2                                 Drama       1       5      F    1   \n",
      "3       Action|Adventure|Fantasy|Sci-Fi       1       4      F    1   \n",
      "4                             Drama|War       1       5      F    1   \n",
      "\n",
      "   Occupation  \n",
      "0          10  \n",
      "1          10  \n",
      "2          10  \n",
      "3          10  \n",
      "4          10  \n"
     ]
    }
   ],
   "source": [
    "#merging tables into one\n",
    "\n",
    "movie_ratings=pd.merge(movie_data,ratings_data,on='MovieID')\n",
    "movie_ratings_users=pd.merge(movie_ratings,users_data, on='UserID')\n",
    "\n",
    "Master_Data=movie_ratings_users.drop(['Zip-code','Timestamp'],axis=1)\n",
    "print(Master_Data.head())\n"
   ]
  },
  {
   "cell_type": "code",
   "execution_count": 5,
   "metadata": {},
   "outputs": [
    {
     "data": {
      "image/png": "[encoded data removed]",
      "text/plain": [
       "<Figure size 432x288 with 1 Axes>"
      ]
     },
     "metadata": {
      "needs_background": "light"
     },
     "output_type": "display_data"
    }
   ],
   "source": [
    "%matplotlib inline\n",
    "#plotting user age distribution\n",
    "users_data.Age.hist()\n",
    "plt.xlabel('Age')\n",
    "plt.ylabel('Number of Users')\n",
    "plt.title('User Age Distribution')\n",
    "plt.show()\n"
   ]
  },
  {
   "cell_type": "code",
   "execution_count": 6,
   "metadata": {},
   "outputs": [
    {
     "data": {
      "image/png": "[encoded data removed]",
      "text/plain": [
       "<Figure size 432x288 with 1 Axes>"
      ]
     },
     "metadata": {
      "needs_background": "light"
     },
     "output_type": "display_data"
    }
   ],
   "source": [
    "#User rating of the movie \"Toy Story\"\n",
    "\n",
    "movies_grouped=Master_Data.groupby('Title')\n",
    "toy_story=movies_grouped.get_group('Toy Story (1995)')\n",
    "toy_story['Rating'].hist()\n",
    "plt.xlabel('Rating')\n",
    "plt.ylabel('Ratings given by users')\n",
    "plt.title('User ratings of the movie \"Toy Story\"')\n",
    "plt.show()\n"
   ]
  },
  {
   "cell_type": "code",
   "execution_count": 7,
   "metadata": {},
   "outputs": [
    {
     "name": "stdout",
     "output_type": "stream",
     "text": [
      "                                                      Rating  \\\n",
      "Title                                                          \n",
      "Gate of Heavenly Peace, The (1995)                  5.000000   \n",
      "Lured (1947)                                        5.000000   \n",
      "Ulysses (Ulisse) (1954)                             5.000000   \n",
      "Smashing Time (1967)                                5.000000   \n",
      "Follow the Bitch (1998)                             5.000000   \n",
      "Song of Freedom (1936)                              5.000000   \n",
      "Bittersweet Motel (2000)                            5.000000   \n",
      "Baby, The (1973)                                    5.000000   \n",
      "One Little Indian (1973)                            5.000000   \n",
      "Schlafes Bruder (Brother of Sleep) (1995)           5.000000   \n",
      "I Am Cuba (Soy Cuba/Ya Kuba) (1964)                 4.800000   \n",
      "Lamerica (1994)                                     4.750000   \n",
      "Apple, The (Sib) (1998)                             4.666667   \n",
      "Sanjuro (1962)                                      4.608696   \n",
      "Seven Samurai (The Magnificent Seven) (Shichini...  4.560510   \n",
      "Shawshank Redemption, The (1994)                    4.554558   \n",
      "Godfather, The (1972)                               4.524966   \n",
      "Close Shave, A (1995)                               4.520548   \n",
      "Usual Suspects, The (1995)                          4.517106   \n",
      "Schindler's List (1993)                             4.510417   \n",
      "Wrong Trousers, The (1993)                          4.507937   \n",
      "Dangerous Game (1993)                               4.500000   \n",
      "Mamma Roma (1962)                                   4.500000   \n",
      "Inheritors, The (Die Siebtelbauern) (1998)          4.500000   \n",
      "Hour of the Pig, The (1993)                         4.500000   \n",
      "\n",
      "                                                    number_of_ratings  \n",
      "Title                                                                  \n",
      "Gate of Heavenly Peace, The (1995)                                  3  \n",
      "Lured (1947)                                                        1  \n",
      "Ulysses (Ulisse) (1954)                                             1  \n",
      "Smashing Time (1967)                                                2  \n",
      "Follow the Bitch (1998)                                             1  \n",
      "Song of Freedom (1936)                                              1  \n",
      "Bittersweet Motel (2000)                                            1  \n",
      "Baby, The (1973)                                                    1  \n",
      "One Little Indian (1973)                                            1  \n",
      "Schlafes Bruder (Brother of Sleep) (1995)                           1  \n",
      "I Am Cuba (Soy Cuba/Ya Kuba) (1964)                                 5  \n",
      "Lamerica (1994)                                                     8  \n",
      "Apple, The (Sib) (1998)                                             9  \n",
      "Sanjuro (1962)                                                     69  \n",
      "Seven Samurai (The Magnificent Seven) (Shichini...                628  \n",
      "Shawshank Redemption, The (1994)                                 2227  \n",
      "Godfather, The (1972)                                            2223  \n",
      "Close Shave, A (1995)                                             657  \n",
      "Usual Suspects, The (1995)                                       1783  \n",
      "Schindler's List (1993)                                          2304  \n",
      "Wrong Trousers, The (1993)                                        882  \n",
      "Dangerous Game (1993)                                               2  \n",
      "Mamma Roma (1962)                                                   2  \n",
      "Inheritors, The (Die Siebtelbauern) (1998)                          2  \n",
      "Hour of the Pig, The (1993)                                         2  \n"
     ]
    }
   ],
   "source": [
    "#Top 25 movies by viewership rating\n",
    "\n",
    "rating_avg = Master_Data.groupby('Title')['Rating'].mean()\n",
    "rating_avg = rating_avg.sort_values(ascending=False)\n",
    "rating_count = Master_Data.groupby('Title')['Rating']\n",
    "rating_count = rating_count.count().sort_values(ascending=False)\n",
    "rating_avg_count = pd.DataFrame(data=rating_avg)\n",
    "rating_avg_count['number_of_ratings'] = pd.DataFrame(rating_count)\n",
    "print(rating_avg_count[:25])\n"
   ]
  },
  {
   "cell_type": "code",
   "execution_count": 8,
   "metadata": {},
   "outputs": [
    {
     "name": "stdout",
     "output_type": "stream",
     "text": [
      "        MovieID                                           Title  \\\n",
      "991035      350                              Client, The (1994)   \n",
      "991036      800                                Lone Star (1996)   \n",
      "991037     1092                           Basic Instinct (1992)   \n",
      "991038     1097               E.T. the Extra-Terrestrial (1982)   \n",
      "991039     1258                             Shining, The (1980)   \n",
      "991040     1270                       Back to the Future (1985)   \n",
      "991041     1589                                 Cop Land (1997)   \n",
      "991042     1617                        L.A. Confidential (1997)   \n",
      "991043     1625                                Game, The (1997)   \n",
      "991044     1644          I Know What You Did Last Summer (1997)   \n",
      "991045     1645                    Devil's Advocate, The (1997)   \n",
      "991046     1711  Midnight in the Garden of Good and Evil (1997)   \n",
      "991047     1783                                 Palmetto (1998)   \n",
      "991048     1805                              Wild Things (1998)   \n",
      "991049     1892                        Perfect Murder, A (1998)   \n",
      "991050     2338    I Still Know What You Did Last Summer (1998)   \n",
      "991051     2389                                   Psycho (1998)   \n",
      "991052     2713                              Lake Placid (1999)   \n",
      "991053     3176                 Talented Mr. Ripley, The (1999)   \n",
      "991054     3386                                      JFK (1991)   \n",
      "\n",
      "                                  Genres  UserID  Rating Gender  Age  \\\n",
      "991035            Drama|Mystery|Thriller    2696       3      M   25   \n",
      "991036                     Drama|Mystery    2696       5      M   25   \n",
      "991037                  Mystery|Thriller    2696       4      M   25   \n",
      "991038   Children's|Drama|Fantasy|Sci-Fi    2696       3      M   25   \n",
      "991039                            Horror    2696       4      M   25   \n",
      "991040                     Comedy|Sci-Fi    2696       2      M   25   \n",
      "991041               Crime|Drama|Mystery    2696       3      M   25   \n",
      "991042  Crime|Film-Noir|Mystery|Thriller    2696       4      M   25   \n",
      "991043                  Mystery|Thriller    2696       4      M   25   \n",
      "991044           Horror|Mystery|Thriller    2696       2      M   25   \n",
      "991045     Crime|Horror|Mystery|Thriller    2696       4      M   25   \n",
      "991046        Comedy|Crime|Drama|Mystery    2696       4      M   25   \n",
      "991047        Film-Noir|Mystery|Thriller    2696       4      M   25   \n",
      "991048      Crime|Drama|Mystery|Thriller    2696       4      M   25   \n",
      "991049                  Mystery|Thriller    2696       4      M   25   \n",
      "991050           Horror|Mystery|Thriller    2696       2      M   25   \n",
      "991051             Crime|Horror|Thriller    2696       4      M   25   \n",
      "991052                   Horror|Thriller    2696       1      M   25   \n",
      "991053            Drama|Mystery|Thriller    2696       4      M   25   \n",
      "991054                     Drama|Mystery    2696       1      M   25   \n",
      "\n",
      "        Occupation  \n",
      "991035           7  \n",
      "991036           7  \n",
      "991037           7  \n",
      "991038           7  \n",
      "991039           7  \n",
      "991040           7  \n",
      "991041           7  \n",
      "991042           7  \n",
      "991043           7  \n",
      "991044           7  \n",
      "991045           7  \n",
      "991046           7  \n",
      "991047           7  \n",
      "991048           7  \n",
      "991049           7  \n",
      "991050           7  \n",
      "991051           7  \n",
      "991052           7  \n",
      "991053           7  \n",
      "991054           7  \n"
     ]
    }
   ],
   "source": [
    "#the ratings for all the movies reviewed by for a particular user of user id = 2696\n",
    "\n",
    "user_2696 = Master_Data[Master_Data['UserID'] == 2696]\n",
    "print(user_2696)"
   ]
  },
  {
   "cell_type": "code",
   "execution_count": 9,
   "metadata": {},
   "outputs": [
    {
     "name": "stdout",
     "output_type": "stream",
     "text": [
      "[\"Animation|Children's|Comedy\" \"Adventure|Children's|Fantasy\"\n",
      " 'Comedy|Romance' 'Comedy|Drama' 'Comedy' 'Action|Crime|Thriller'\n",
      " \"Adventure|Children's\" 'Action' 'Action|Adventure|Thriller'\n",
      " 'Comedy|Drama|Romance' 'Comedy|Horror' \"Animation|Children's\" 'Drama'\n",
      " 'Action|Adventure|Romance' 'Drama|Thriller' 'Drama|Romance' 'Thriller'\n",
      " 'Action|Comedy|Drama' 'Crime|Drama|Thriller' 'Drama|Sci-Fi' 'Romance'\n",
      " 'Adventure|Sci-Fi' 'Adventure|Romance' \"Children's|Comedy|Drama\"\n",
      " 'Documentary' 'Drama|War' 'Action|Crime|Drama' 'Action|Adventure'\n",
      " 'Crime|Thriller' \"Animation|Children's|Musical|Romance\"\n",
      " 'Action|Drama|Thriller' \"Children's|Comedy\" 'Drama|Mystery'\n",
      " 'Sci-Fi|Thriller' 'Action|Comedy|Crime|Horror|Thriller' 'Drama|Musical'\n",
      " 'Crime|Drama|Romance' 'Adventure|Drama' 'Action|Thriller'\n",
      " \"Adventure|Children's|Comedy|Musical\" 'Action|Drama|War'\n",
      " 'Action|Adventure|Crime' 'Crime' 'Drama|Mystery|Romance' 'Action|Drama'\n",
      " 'Drama|Romance|War' 'Horror' 'Action|Adventure|Comedy|Crime' 'Comedy|War'\n",
      " 'Action|Adventure|Mystery|Sci-Fi' 'Drama|Thriller|War'\n",
      " 'Action|Romance|Thriller' 'Crime|Film-Noir|Mystery|Thriller'\n",
      " 'Action|Adventure|Drama|Romance' \"Adventure|Children's|Drama\"\n",
      " 'Action|Sci-Fi|Thriller' 'Action|Adventure|Sci-Fi' \"Action|Children's\"\n",
      " 'Horror|Sci-Fi' 'Action|Crime|Sci-Fi' 'Western'\n",
      " \"Animation|Children's|Comedy|Romance\" \"Children's|Drama\" 'Crime|Drama'\n",
      " 'Drama|Fantasy|Romance|Thriller' 'Drama|Horror' 'Comedy|Sci-Fi'\n",
      " 'Mystery|Thriller' \"Adventure|Children's|Comedy|Fantasy|Romance\"\n",
      " 'Action|Adventure|Fantasy|Sci-Fi' 'Drama|Romance|War|Western'\n",
      " 'Action|Crime' 'Crime|Drama|Romance|Thriller' 'Action|Adventure|Western'\n",
      " 'Horror|Thriller' \"Children's|Comedy|Fantasy\" 'Film-Noir|Thriller'\n",
      " 'Action|Comedy|Musical|Sci-Fi' \"Children's\" 'Drama|Mystery|Thriller'\n",
      " 'Comedy|Romance|War' 'Action|Comedy' \"Adventure|Children's|Romance\"\n",
      " \"Animation|Children's|Musical\" 'Comedy|Crime|Fantasy'\n",
      " 'Action|Comedy|Western' 'Action|Sci-Fi' 'Action|Adventure|Comedy|Romance'\n",
      " 'Comedy|Crime|Drama' 'Comedy|Thriller' 'Horror|Sci-Fi|Thriller'\n",
      " 'Mystery|Romance|Thriller' 'Comedy|Western' 'Drama|Western'\n",
      " 'Action|Adventure|Crime|Thriller' 'Action|Comedy|War' 'Comedy|Mystery'\n",
      " 'Comedy|Mystery|Romance' 'Comedy|Drama|War' 'Action|Drama|Mystery'\n",
      " 'Comedy|Crime|Horror' 'Film-Noir|Sci-Fi' 'Comedy|Romance|Thriller'\n",
      " \"Action|Adventure|Children's|Sci-Fi\" \"Children's|Comedy|Musical\"\n",
      " 'Action|Adventure|Comedy' 'Action|Crime|Romance'\n",
      " \"Action|Adventure|Animation|Children's|Fantasy\"\n",
      " \"Animation|Children's|Comedy|Musical\" 'Adventure|Drama|Western'\n",
      " 'Action|Adventure|Crime|Drama' 'Action|Adventure|Animation|Horror|Sci-Fi'\n",
      " 'Action|Horror|Sci-Fi' 'War' 'Action|Adventure|Mystery' 'Mystery'\n",
      " 'Action|Adventure|Fantasy'\n",
      " \"Adventure|Animation|Children's|Comedy|Fantasy\" 'Sci-Fi'\n",
      " 'Documentary|Drama' 'Action|Adventure|Comedy|War'\n",
      " 'Crime|Film-Noir|Thriller' 'Animation'\n",
      " 'Action|Adventure|Romance|Thriller' 'Animation|Sci-Fi'\n",
      " 'Animation|Comedy|Thriller' 'Film-Noir' 'Sci-Fi|War' 'Adventure'\n",
      " 'Comedy|Crime' 'Action|Sci-Fi|War' 'Comedy|Fantasy|Romance|Sci-Fi'\n",
      " 'Fantasy' 'Action|Mystery|Thriller' 'Comedy|Musical'\n",
      " 'Action|Adventure|Sci-Fi|Thriller' \"Children's|Drama|Fantasy\"\n",
      " 'Adventure|War' 'Musical|Romance' 'Comedy|Musical|Romance'\n",
      " 'Comedy|Mystery|Romance|Thriller' 'Film-Noir|Mystery' 'Musical'\n",
      " \"Adventure|Children's|Drama|Musical\" 'Drama|Mystery|Sci-Fi|Thriller'\n",
      " 'Romance|Thriller' 'Film-Noir|Romance|Thriller' 'Crime|Film-Noir|Mystery'\n",
      " 'Adventure|Comedy' 'Action|Adventure|Romance|War' 'Romance|War'\n",
      " 'Action|Drama|Western' \"Children's|Comedy|Western\"\n",
      " \"Adventure|Children's|Comedy\" \"Children's|Comedy|Mystery\"\n",
      " \"Adventure|Children's|Fantasy|Sci-Fi\"\n",
      " \"Adventure|Animation|Children's|Musical\" \"Adventure|Children's|Musical\"\n",
      " 'Crime|Film-Noir' \"Adventure|Children's|Comedy|Fantasy\"\n",
      " \"Children's|Drama|Fantasy|Sci-Fi\" 'Action|Romance' 'Adventure|Western'\n",
      " 'Comedy|Fantasy' 'Animation|Comedy' 'Crime|Drama|Film-Noir'\n",
      " 'Action|Adventure|Drama|Sci-Fi|War' 'Action|Sci-Fi|Thriller|War'\n",
      " 'Action|Western' \"Action|Animation|Children's|Sci-Fi|Thriller|War\"\n",
      " 'Action|Adventure|Romance|Sci-Fi|War' 'Action|Horror|Sci-Fi|Thriller'\n",
      " 'Action|Adventure|Comedy|Horror|Sci-Fi' 'Action|Comedy|Musical'\n",
      " 'Mystery|Sci-Fi' 'Film-Noir|Mystery|Thriller' 'Adventure|Comedy|Drama'\n",
      " 'Action|Adventure|Comedy|Horror' 'Action|Drama|Mystery|Romance|Thriller'\n",
      " 'Comedy|Mystery|Thriller' 'Adventure|Animation|Sci-Fi|Thriller'\n",
      " 'Action|Drama|Romance' 'Action|Adventure|Drama' 'Comedy|Drama|Musical'\n",
      " 'Documentary|War' 'Drama|Musical|War' 'Action|Horror' 'Horror|Romance'\n",
      " 'Action|Comedy|Sci-Fi|War' 'Crime|Drama|Sci-Fi' 'Action|Romance|War'\n",
      " 'Action|Comedy|Crime|Drama' 'Action|Drama|Thriller|War'\n",
      " \"Action|Adventure|Children's\" \"Action|Adventure|Children's|Fantasy\"\n",
      " \"Adventure|Animation|Children's|Comedy|Musical\" 'Crime|Drama|Mystery'\n",
      " 'Action|Adventure|Comedy|Sci-Fi' \"Children's|Fantasy\"\n",
      " 'Action|Mystery|Sci-Fi|Thriller' 'Action|Mystery|Romance|Thriller'\n",
      " 'Adventure|Thriller' 'Action|Thriller|War' 'Action|Crime|Mystery'\n",
      " 'Horror|Mystery|Thriller' 'Crime|Horror|Mystery|Thriller'\n",
      " 'Comedy|Drama|Thriller' 'Drama|Sci-Fi|Thriller' 'Drama|Romance|Thriller'\n",
      " 'Action|Adventure|Sci-Fi|War' 'Comedy|Crime|Drama|Mystery'\n",
      " 'Comedy|Crime|Mystery|Thriller' 'Film-Noir|Sci-Fi|Thriller'\n",
      " 'Adventure|Sci-Fi|Thriller' 'Crime|Drama|Mystery|Thriller'\n",
      " 'Comedy|Documentary' 'Documentary|Musical' 'Action|Drama|Sci-Fi|Thriller'\n",
      " \"Adventure|Animation|Children's|Fantasy\" 'Adventure|Comedy|Romance'\n",
      " 'Mystery|Sci-Fi|Thriller' 'Action|Comedy|Crime'\n",
      " \"Animation|Children's|Fantasy|War\" 'Action|Crime|Drama|Thriller'\n",
      " 'Comedy|Sci-Fi|Western' \"Children's|Fantasy|Musical\" 'Fantasy|Sci-Fi'\n",
      " \"Children's|Comedy|Sci-Fi\" \"Action|Adventure|Children's|Comedy\"\n",
      " \"Adventure|Children's|Drama|Romance\" \"Adventure|Children's|Sci-Fi\"\n",
      " \"Adventure|Children's|Comedy|Fantasy|Sci-Fi\"\n",
      " \"Animation|Children's|Comedy|Musical|Romance\" \"Children's|Musical\"\n",
      " 'Drama|Fantasy' \"Animation|Children's|Fantasy|Musical\"\n",
      " 'Adventure|Comedy|Musical' \"Children's|Sci-Fi\" \"Children's|Horror\"\n",
      " 'Comedy|Fantasy|Romance' 'Comedy|Crime|Thriller'\n",
      " \"Adventure|Animation|Children's|Sci-Fi\" 'Action|Crime|Mystery|Thriller'\n",
      " 'Adventure|Musical' \"Animation|Children's|Drama|Fantasy\"\n",
      " \"Children's|Fantasy|Sci-Fi\" 'Adventure|Fantasy|Romance' 'Crime|Horror'\n",
      " 'Action|Adventure|Horror' 'Adventure|Fantasy|Sci-Fi'\n",
      " 'Drama|Film-Noir|Thriller' 'Action|Comedy|Fantasy' 'Sci-Fi|Thriller|War'\n",
      " 'Action|Adventure|Sci-Fi|Thriller|War' 'Action|Adventure|Drama|Thriller'\n",
      " 'Crime|Horror|Thriller' 'Animation|Musical' 'Action|War'\n",
      " 'Action|Comedy|Romance|Thriller' 'Comedy|Horror|Thriller'\n",
      " 'Drama|Horror|Thriller' 'Action|Sci-Fi|Thriller|Western'\n",
      " 'Drama|Romance|Sci-Fi' 'Action|Adventure|Horror|Thriller'\n",
      " 'Comedy|Film-Noir|Thriller' 'Comedy|Horror|Musical|Sci-Fi'\n",
      " 'Comedy|Romance|Sci-Fi' 'Action|Comedy|Sci-Fi|Thriller'\n",
      " 'Action|Sci-Fi|Western' 'Comedy|Horror|Musical' 'Crime|Mystery'\n",
      " 'Animation|Mystery' 'Action|Horror|Thriller'\n",
      " 'Action|Drama|Fantasy|Romance' 'Horror|Mystery'\n",
      " \"Adventure|Animation|Children's\" 'Musical|Romance|War'\n",
      " 'Adventure|Drama|Romance' 'Adventure|Animation|Film-Noir'\n",
      " 'Action|Adventure|Animation' 'Comedy|Drama|Western'\n",
      " 'Adventure|Comedy|Sci-Fi' 'Drama|Romance|Western' 'Comedy|Drama|Sci-Fi'\n",
      " 'Action|Drama|Romance|Thriller' 'Adventure|Romance|Sci-Fi'\n",
      " 'Film-Noir|Horror' 'Crime|Drama|Film-Noir|Thriller'\n",
      " 'Action|Adventure|War' 'Romance|Western' \"Action|Children's|Fantasy\"\n",
      " 'Adventure|Drama|Thriller' 'Adventure|Fantasy' 'Musical|War'\n",
      " 'Adventure|Musical|Romance' 'Action|Romance|Sci-Fi' 'Drama|Film-Noir'\n",
      " 'Comedy|Horror|Sci-Fi' 'Adventure|Drama|Romance|Sci-Fi'\n",
      " 'Adventure|Animation|Sci-Fi' 'Adventure|Crime|Sci-Fi|Thriller']\n"
     ]
    }
   ],
   "source": [
    "#unique genres\n",
    "\n",
    "print(movie_data['Genres'].unique())"
   ]
  },
  {
   "cell_type": "code",
   "execution_count": 10,
   "metadata": {},
   "outputs": [],
   "source": [
    "#One hot Encoding(Genre)\n",
    "\n",
    "Genre = Master_Data['Genres']\n",
    "Genre = Genre.str.get_dummies().add_prefix('Genres_')\n",
    "genre_ohe = pd.concat( [Master_Data.drop(['Genres'],axis=1),Genre],axis=1,join_axes=[Master_Data.index])"
   ]
  },
  {
   "cell_type": "code",
   "execution_count": 11,
   "metadata": {},
   "outputs": [],
   "source": [
    "genre_ohe = pd.get_dummies(\n",
    "    genre_ohe,\n",
    "    columns=['Gender']\n",
    ")"
   ]
  },
  {
   "cell_type": "code",
   "execution_count": 12,
   "metadata": {},
   "outputs": [
    {
     "name": "stdout",
     "output_type": "stream",
     "text": [
      "   MovieID                                      Title  UserID  Rating  Age  \\\n",
      "0        1                           Toy Story (1995)       1       5    1   \n",
      "1       48                          Pocahontas (1995)       1       5    1   \n",
      "2      150                           Apollo 13 (1995)       1       5    1   \n",
      "3      260  Star Wars: Episode IV - A New Hope (1977)       1       4    1   \n",
      "4      527                    Schindler's List (1993)       1       5    1   \n",
      "\n",
      "   Occupation  Genres_Action  Genres_Adventure  Genres_Animation  \\\n",
      "0          10              0                 0                 1   \n",
      "1          10              0                 0                 1   \n",
      "2          10              0                 0                 0   \n",
      "3          10              1                 1                 0   \n",
      "4          10              0                 0                 0   \n",
      "\n",
      "   Genres_Children's  ...  Genres_Horror  Genres_Musical  Genres_Mystery  \\\n",
      "0                  1  ...              0               0               0   \n",
      "1                  1  ...              0               1               0   \n",
      "2                  0  ...              0               0               0   \n",
      "3                  0  ...              0               0               0   \n",
      "4                  0  ...              0               0               0   \n",
      "\n",
      "   Genres_Romance  Genres_Sci-Fi  Genres_Thriller  Genres_War  Genres_Western  \\\n",
      "0               0              0                0           0               0   \n",
      "1               1              0                0           0               0   \n",
      "2               0              0                0           0               0   \n",
      "3               0              1                0           0               0   \n",
      "4               0              0                0           1               0   \n",
      "\n",
      "   Gender_F  Gender_M  \n",
      "0         1         0  \n",
      "1         1         0  \n",
      "2         1         0  \n",
      "3         1         0  \n",
      "4         1         0  \n",
      "\n",
      "[5 rows x 26 columns]\n"
     ]
    }
   ],
   "source": [
    "print(genre_ohe.head())"
   ]
  },
  {
   "cell_type": "code",
   "execution_count": 13,
   "metadata": {},
   "outputs": [
    {
     "name": "stdout",
     "output_type": "stream",
     "text": [
      "MovieID                int32\n",
      "Title                 object\n",
      "UserID                 int32\n",
      "Rating                 int32\n",
      "Age                    int32\n",
      "Occupation             int32\n",
      "Genres_Action          int64\n",
      "Genres_Adventure       int64\n",
      "Genres_Animation       int64\n",
      "Genres_Children's      int64\n",
      "Genres_Comedy          int64\n",
      "Genres_Crime           int64\n",
      "Genres_Documentary     int64\n",
      "Genres_Drama           int64\n",
      "Genres_Fantasy         int64\n",
      "Genres_Film-Noir       int64\n",
      "Genres_Horror          int64\n",
      "Genres_Musical         int64\n",
      "Genres_Mystery         int64\n",
      "Genres_Romance         int64\n",
      "Genres_Sci-Fi          int64\n",
      "Genres_Thriller        int64\n",
      "Genres_War             int64\n",
      "Genres_Western         int64\n",
      "Gender_F               uint8\n",
      "Gender_M               uint8\n",
      "dtype: object\n"
     ]
    }
   ],
   "source": [
    "#features affecting the ratings of any particular movie\n",
    "\n",
    "print(genre_ohe.dtypes)"
   ]
  },
  {
   "cell_type": "code",
   "execution_count": 14,
   "metadata": {},
   "outputs": [],
   "source": [
    "#Developing an appropriate model to predict the movie ratings\n",
    "#Importing packages for linear regression\n",
    "from sklearn.linear_model import LinearRegression\n",
    "from sklearn.model_selection import train_test_split\n",
    "from sklearn import metrics"
   ]
  },
  {
   "cell_type": "code",
   "execution_count": 15,
   "metadata": {},
   "outputs": [],
   "source": [
    "lin_reg = LinearRegression()\n",
    "genre_ohe=genre_ohe.drop('Title', axis=1)\n",
    "X=genre_ohe.drop('Rating',axis=1)\n",
    "y = genre_ohe['Rating']"
   ]
  },
  {
   "cell_type": "code",
   "execution_count": 16,
   "metadata": {},
   "outputs": [],
   "source": [
    "#Splitting Data into training and testing set\n",
    "\n",
    "X_train, X_test, y_train, y_test = train_test_split(X,y,test_size=0.20)"
   ]
  },
  {
   "cell_type": "code",
   "execution_count": 17,
   "metadata": {},
   "outputs": [
    {
     "data": {
      "text/plain": [
       "LinearRegression(copy_X=True, fit_intercept=True, n_jobs=None, normalize=False)"
      ]
     },
     "execution_count": 17,
     "metadata": {},
     "output_type": "execute_result"
    }
   ],
   "source": [
    "#Training model\n",
    "#print(X.head())\n",
    "lin_reg.fit(X_train, y_train)"
   ]
  },
  {
   "cell_type": "code",
   "execution_count": 18,
   "metadata": {},
   "outputs": [],
   "source": [
    "#Predicting rating\n",
    "y_pred = lin_reg.predict(X_test)"
   ]
  },
  {
   "cell_type": "code",
   "execution_count": 19,
   "metadata": {},
   "outputs": [
    {
     "name": "stdout",
     "output_type": "stream",
     "text": [
      "y-intercept:  3.4818702768904473\n",
      "Coefficients:  [-5.64745451e-05  5.84121142e-06  4.05570088e-03  1.11223985e-03\n",
      " -9.92893510e-02 -2.55221169e-03  3.83691338e-01 -3.48978456e-01\n",
      " -1.07773094e-02  7.76502471e-02  4.03567045e-01  2.22290985e-01\n",
      "  7.30650820e-02  4.24076194e-01 -2.87233420e-01  1.38014273e-01\n",
      "  7.09381837e-03 -3.55649787e-02 -2.99133536e-02  4.80853376e-02\n",
      "  2.76852420e-01  1.01655409e-01  1.44018378e-02 -1.44018378e-02]\n",
      "Mean Squared Error  MSE:  1.1929257680663392\n",
      "Root Mean Squared Error RMSE: 1.092211411800087\n",
      "r2 value:  0.04054581693012871\n"
     ]
    }
   ],
   "source": [
    "#Evaluating metrics\n",
    "\n",
    "print('y-intercept: ',lin_reg.intercept_)\n",
    "print('Coefficients: ',lin_reg.coef_)\n",
    "print('Mean Squared Error  MSE: ',metrics.mean_squared_error(y_test, y_pred))\n",
    "print('Root Mean Squared Error RMSE:',np.sqrt(metrics.mean_squared_error(y_test, y_pred)))\n",
    "print('r2 value: ',metrics.r2_score(y_test, y_pred))"
   ]
  },
  {
   "cell_type": "code",
   "execution_count": null,
   "metadata": {},
   "outputs": [],
   "source": []
  },
  {
   "cell_type": "code",
   "execution_count": null,
   "metadata": {},
   "outputs": [],
   "source": []
  }
 ],
 "metadata": {
  "kernelspec": {
   "display_name": "Python 3",
   "language": "python",
   "name": "python3"
  },
  "language_info": {
   "codemirror_mode": {
    "name": "ipython",
    "version": 3
   },
   "file_extension": ".py",
   "mimetype": "text/x-python",
   "name": "python",
   "nbconvert_exporter": "python",
   "pygments_lexer": "ipython3",
   "version": "3.7.6"
  }
 },
 "nbformat": 4,
 "nbformat_minor": 4
}
